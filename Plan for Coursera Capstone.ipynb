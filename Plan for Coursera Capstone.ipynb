{
 "cells": [
  {
   "cell_type": "markdown",
   "metadata": {
    "collapsed": true
   },
   "source": [
    "# What makes a healthy city?\n",
    "\n",
    "### Description of the problem and background\n",
    "\n",
    "What makes a healthy city? In this project we are going to use machine learning tools to cluster different neighbourhoods based on their characteristics in the Foursquare database. We will then compare it to regional health data from Canadian census data and see if there are trends between the health indicators of that neighbourhood and its characteristics from the Foursquare database. We will be able to report at the end of this investigation if certain characteristics in the Foursquare database are generally associated with better or worse health outcomes. Outcomes we can consider are average life expectancy, hospital admissions, rates of diabetes, asthma, high blood pressure, and premature mortality. \n",
    "\n",
    "This kind of analysis is important because it may help to answer questions regarding health inequalities already readily reported in the literature. For example, see (Hou & Chen, 2003; Van Ingen et al., 2015). The city of Toronto is aware of health inequalities between neighbourhoods and adding light to what may be contributing to them is an important step forward to formulating policies that can aim to improve health outcomes in the communities that need them most by tackling the factors that lead to them at their source. \n",
    "\n",
    "### A description of the data and how it will be used to solve the problem\n",
    "\n",
    "In this analysis we will be using two different kinds of data, and in that, analyses. The first type of data will be geolocation data from the Foursquare database that classifies items in a neighbourhood by their location, name and category. We will group neighborhoods in the same way as they were grouped in the most recent available census. We will then use clustering algorithms to differentiate these neighbourhoods based on their Foursquare attributes and generate figures that display the message in a clear and effective manner. \n",
    "We will then use the census data to find neighbourhoods that have the worst health outcomes based on indicators identified in the previous section. Finally, we will compare the properties of the neighbourhoods or groups of neighbourhoods with the most severe health outcomes with the ones with the least severe health outcomes. We can use a regression model to show trends in the kinds of attributes presented in Foursquare that are generally associated with healthier or unhealthier neighbourhoods if there are indeed trends present. An example of the census data that can be used can be found here: http://www.torontohealthprofiles.ca/a_dataTables.php?varTab=HPDtbl\n",
    "\n",
    "#### Sources\n",
    "\n",
    "Hou, F., & Chen, J. (2003). Neighbourhood low income, income inequality and health in Toronto. Health Reports, 14(2), 21–34. Retrieved from http://www.ncbi.nlm.nih.gov/pubmed/12658862\n",
    "\n",
    "Van Ingen, T., Khandor, E., Fleiszer, P., Mckeown, D., Houston, J., Fordham, J., … Public Health, T. (2015). The Unequal City 2015: Income and Health Inequities in Toronto. Toronto Public Health. Retrieved from http://www.toronto.ca/health/"
   ]
  },
  {
   "cell_type": "code",
   "execution_count": null,
   "metadata": {},
   "outputs": [],
   "source": []
  }
 ],
 "metadata": {
  "kernelspec": {
   "display_name": "Python 3.5",
   "language": "python",
   "name": "python3"
  },
  "language_info": {
   "codemirror_mode": {
    "name": "ipython",
    "version": 3
   },
   "file_extension": ".py",
   "mimetype": "text/x-python",
   "name": "python",
   "nbconvert_exporter": "python",
   "pygments_lexer": "ipython3",
   "version": "3.5.5"
  }
 },
 "nbformat": 4,
 "nbformat_minor": 1
}
